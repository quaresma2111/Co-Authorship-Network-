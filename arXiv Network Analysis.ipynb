{
 "cells": [
  {
   "cell_type": "code",
   "execution_count": 3,
   "metadata": {},
   "outputs": [],
   "source": [
    "import networkx as nx\n",
    "import pandas as pd\n",
    "import matplotlib.pyplot as plt"
   ]
  },
  {
   "cell_type": "code",
   "execution_count": 2,
   "metadata": {},
   "outputs": [],
   "source": [
    "#Loading the graph\n",
    "g = nx.read_gexf(\"test.gexf\")"
   ]
  },
  {
   "cell_type": "code",
   "execution_count": 3,
   "metadata": {},
   "outputs": [
    {
     "name": "stdout",
     "output_type": "stream",
     "text": [
      "Number of authors(nodes): 44424\n",
      "Number of co-authorships(links): 229617\n"
     ]
    }
   ],
   "source": [
    "#Number of nodes and links\n",
    "print(\"Number of authors(nodes):\",len(g.nodes()))\n",
    "print(\"Number of co-authorships(links):\",len(g.edges()))"
   ]
  },
  {
   "cell_type": "markdown",
   "metadata": {},
   "source": [
    "## Network Visualisation"
   ]
  },
  {
   "cell_type": "code",
   "execution_count": 1,
   "metadata": {},
   "outputs": [],
   "source": [
    "#nx.draw(g)\n",
    "#plt.show()"
   ]
  },
  {
   "cell_type": "markdown",
   "metadata": {},
   "source": [
    "## Summary statistics: Diameter, Clustering, etc"
   ]
  },
  {
   "cell_type": "code",
   "execution_count": 5,
   "metadata": {},
   "outputs": [
    {
     "name": "stdout",
     "output_type": "stream",
     "text": [
      "Average degree: 10.337520259319287\n"
     ]
    }
   ],
   "source": [
    "#Average Degree\n",
    "degrees = [g.degree(n) for n in g.nodes()]\n",
    "\n",
    "print(\"Average degree:\", sum(degrees)/len(g.nodes))"
   ]
  },
  {
   "cell_type": "code",
   "execution_count": 11,
   "metadata": {},
   "outputs": [
    {
     "name": "stdout",
     "output_type": "stream",
     "text": [
      "Is the graph connected: False\n",
      "Number of connected components: 3942\n",
      "Largest component has: 63.888888888888886 % of nodes\n"
     ]
    }
   ],
   "source": [
    "#Connected Components\n",
    "print(\"Is the graph connected:\",nx.is_connected(g))\n",
    "\n",
    "print(\"Number of connected components:\",nx.number_connected_components(g))\n",
    "\n",
    "largest_cc = max(nx.connected_components(g), key=len)\n",
    "print(\"Largest component has:\", (len(largest_cc)/g.number_of_nodes())*100,\"% of nodes\")"
   ]
  },
  {
   "cell_type": "code",
   "execution_count": 18,
   "metadata": {},
   "outputs": [],
   "source": [
    "#Average Shortest Path Length (Compute Heavy)\n",
    "largest_cc_graph = g.subgraph(largest_cc)\n",
    "    \n",
    "print(\"Average shortest path length of largest connected component:\",nx.average_shortest_path_length(largest_cc_graph))"
   ]
  },
  {
   "cell_type": "code",
   "execution_count": 19,
   "metadata": {},
   "outputs": [],
   "source": [
    "#Diameter (Compute Heavy)\n",
    "print(\"Diameter of largest connected component:\", nx.diameter(largest_cc_graph))"
   ]
  },
  {
   "cell_type": "code",
   "execution_count": 11,
   "metadata": {},
   "outputs": [
    {
     "data": {
      "text/plain": [
       "0.7684247128897982"
      ]
     },
     "execution_count": 11,
     "metadata": {},
     "output_type": "execute_result"
    }
   ],
   "source": [
    "#Clustering Coefficient\n",
    "print(\"Average Clustering Coefficient:\" ,nx.average_clustering(g))"
   ]
  },
  {
   "cell_type": "code",
   "execution_count": 26,
   "metadata": {},
   "outputs": [
    {
     "name": "stdout",
     "output_type": "stream",
     "text": [
      "% of potential edges actualized in the network: 0.023 %\n"
     ]
    }
   ],
   "source": [
    "#Density \n",
    "print(\"% of potential edges actualized in the network:\",round((nx.density(g)*100),3),\"%\")"
   ]
  },
  {
   "cell_type": "code",
   "execution_count": 28,
   "metadata": {},
   "outputs": [
    {
     "name": "stdout",
     "output_type": "stream",
     "text": [
      "Assortativity Coefficient: 0.9867447155753161\n"
     ]
    }
   ],
   "source": [
    "#Assortativity Coefficient\n",
    "print(\"Assortativity Coefficient:\",nx.degree_pearson_correlation_coefficient(g))"
   ]
  },
  {
   "cell_type": "markdown",
   "metadata": {},
   "source": [
    "## Degree Distribution"
   ]
  },
  {
   "cell_type": "code",
   "execution_count": 18,
   "metadata": {},
   "outputs": [
    {
     "data": {
      "image/png": "[encoded data removed]",
      "text/plain": [
       "<Figure size 432x288 with 1 Axes>"
      ]
     },
     "metadata": {
      "needs_background": "light"
     },
     "output_type": "display_data"
    }
   ],
   "source": [
    "#Variant 1\n",
    "from collections import Counter\n",
    "from operator import itemgetter\n",
    "import matplotlib.pyplot as plt\n",
    "\n",
    "degrees = [g.degree(n) for n in g.nodes()]\n",
    "degree_counts = Counter(degrees)                                                                                                 \n",
    "x, y = zip(*degree_counts.items())                                                      \n",
    "\n",
    "plt.figure(1)   \n",
    "\n",
    "# prep axes                                                                                                                      \n",
    "plt.xlabel('degree')                                                                                                             \n",
    "plt.xscale('log')                                                                                                                \n",
    "plt.xlim(1, max(y))  \n",
    "\n",
    "plt.ylabel('frequency')                                                                                                          \n",
    "plt.yscale('log')                                                                                                                \n",
    "plt.ylim(1, max(x))                                                                                                             \n",
    "                                                                                                                                     # do plot                                                                                                                        \n",
    "plt.scatter(x, y, marker='.')                                                                                                    \n",
    "plt.show()"
   ]
  },
  {
   "cell_type": "code",
   "execution_count": 22,
   "metadata": {},
   "outputs": [
    {
     "data": {
      "text/plain": [
       "Text(0, 0.5, 'Frequency')"
      ]
     },
     "execution_count": 22,
     "metadata": {},
     "output_type": "execute_result"
    },
    {
     "data": {
      "image/png": "[encoded data removed]",
      "text/plain": [
       "<Figure size 864x576 with 1 Axes>"
      ]
     },
     "metadata": {
      "needs_background": "light"
     },
     "output_type": "display_data"
    }
   ],
   "source": [
    "#Variant 2\n",
    "import matplotlib.pyplot as plt\n",
    "degree_freq = nx.degree_histogram(g)\n",
    "degrees = range(len(degree_freq))\n",
    "plt.figure(figsize=(12, 8)) \n",
    "plt.loglog(degrees, degree_freq,'go-') \n",
    "plt.xlabel('Degree')\n",
    "plt.ylabel('Frequency')"
   ]
  },
  {
   "cell_type": "markdown",
   "metadata": {},
   "source": [
    "## Centrality Measures: Degree, Closeness, B/w-ness & Eigenvector"
   ]
  },
  {
   "cell_type": "code",
   "execution_count": 5,
   "metadata": {},
   "outputs": [],
   "source": [
    "d_c = nx.degree_centrality(g) \n",
    "\n",
    "e_c = nx.eigenvector_centrality(g)\n",
    "\n",
    "c_c = nx.closeness_centrality(g) #(Compute Heavy)\n",
    "\n",
    "b_c = nx.betweenness_centrality(g) #(Compute Heavy)"
   ]
  },
  {
   "cell_type": "code",
   "execution_count": 12,
   "metadata": {},
   "outputs": [],
   "source": [
    "df_centrality = pd.read_csv(\"Closeness_Betweenness.csv\", index_col = 0)"
   ]
  },
  {
   "cell_type": "code",
   "execution_count": 13,
   "metadata": {},
   "outputs": [],
   "source": [
    "#Create a dataframe with all centrality measures\n",
    "dict_d_c = dict(d_c)\n",
    "dict_e_c = dict(e_c)\n",
    "dict_c_c = dict(c_c)\n",
    "dict_b_c = dict(b_c)\n",
    "                \n",
    "df_centrality = pd.DataFrame(list(g.nodes()),columns=['Node'])\n",
    "\n",
    "df_centrality['Closeness'] = dict_c_c.values()\n",
    "df_centrality['Betweenness'] = dict_b_c.values()\n",
    "df_centrality['Degree'] = dict_d_c.values()\n",
    "df_centrality['Eigenvector'] =  dict_e_c.values()"
   ]
  },
  {
   "cell_type": "code",
   "execution_count": 14,
   "metadata": {},
   "outputs": [
    {
     "data": {
      "text/html": [
       "<div>\n",
       "<style scoped>\n",
       "    .dataframe tbody tr th:only-of-type {\n",
       "        vertical-align: middle;\n",
       "    }\n",
       "\n",
       "    .dataframe tbody tr th {\n",
       "        vertical-align: top;\n",
       "    }\n",
       "\n",
       "    .dataframe thead th {\n",
       "        text-align: right;\n",
       "    }\n",
       "</style>\n",
       "<table border=\"1\" class=\"dataframe\">\n",
       "  <thead>\n",
       "    <tr style=\"text-align: right;\">\n",
       "      <th></th>\n",
       "      <th>Node</th>\n",
       "      <th>Closeness</th>\n",
       "      <th>Betweenness</th>\n",
       "      <th>Degree</th>\n",
       "      <th>Eigenvector</th>\n",
       "    </tr>\n",
       "  </thead>\n",
       "  <tbody>\n",
       "    <tr>\n",
       "      <th>0</th>\n",
       "      <td>I. P. Gent</td>\n",
       "      <td>0.000135</td>\n",
       "      <td>2.027001e-08</td>\n",
       "      <td>0.000068</td>\n",
       "      <td>6.823069e-12</td>\n",
       "    </tr>\n",
       "    <tr>\n",
       "      <th>1</th>\n",
       "      <td>T. Walsh</td>\n",
       "      <td>0.000191</td>\n",
       "      <td>4.155352e-08</td>\n",
       "      <td>0.000158</td>\n",
       "      <td>2.382782e-11</td>\n",
       "    </tr>\n",
       "    <tr>\n",
       "      <th>2</th>\n",
       "      <td>F. Bergadano</td>\n",
       "      <td>0.000045</td>\n",
       "      <td>0.000000e+00</td>\n",
       "      <td>0.000045</td>\n",
       "      <td>8.572935e-13</td>\n",
       "    </tr>\n",
       "    <tr>\n",
       "      <th>3</th>\n",
       "      <td>D. Gunetti</td>\n",
       "      <td>0.000045</td>\n",
       "      <td>0.000000e+00</td>\n",
       "      <td>0.000045</td>\n",
       "      <td>8.572935e-13</td>\n",
       "    </tr>\n",
       "    <tr>\n",
       "      <th>4</th>\n",
       "      <td>U. Trinchero</td>\n",
       "      <td>0.000045</td>\n",
       "      <td>0.000000e+00</td>\n",
       "      <td>0.000045</td>\n",
       "      <td>8.572935e-13</td>\n",
       "    </tr>\n",
       "  </tbody>\n",
       "</table>\n",
       "</div>"
      ],
      "text/plain": [
       "           Node  Closeness   Betweenness    Degree   Eigenvector\n",
       "0    I. P. Gent   0.000135  2.027001e-08  0.000068  6.823069e-12\n",
       "1      T. Walsh   0.000191  4.155352e-08  0.000158  2.382782e-11\n",
       "2  F. Bergadano   0.000045  0.000000e+00  0.000045  8.572935e-13\n",
       "3    D. Gunetti   0.000045  0.000000e+00  0.000045  8.572935e-13\n",
       "4  U. Trinchero   0.000045  0.000000e+00  0.000045  8.572935e-13"
      ]
     },
     "execution_count": 14,
     "metadata": {},
     "output_type": "execute_result"
    }
   ],
   "source": [
    "df_centrality.head()"
   ]
  },
  {
   "cell_type": "code",
   "execution_count": 16,
   "metadata": {},
   "outputs": [],
   "source": [
    "#Sorting based on values of different centrality measures\n",
    "df_c_c = df_centrality.sort_values('Closeness',ascending = False)\n",
    "df_b_c = df_centrality.sort_values('Betweenness',ascending = False)\n",
    "df_d_c = df_centrality.sort_values('Degree',ascending = False)\n",
    "df_e_c = df_centrality.sort_values('Eigenvector',ascending = False)"
   ]
  },
  {
   "cell_type": "code",
   "execution_count": 17,
   "metadata": {},
   "outputs": [
    {
     "data": {
      "text/html": [
       "<div>\n",
       "<style scoped>\n",
       "    .dataframe tbody tr th:only-of-type {\n",
       "        vertical-align: middle;\n",
       "    }\n",
       "\n",
       "    .dataframe tbody tr th {\n",
       "        vertical-align: top;\n",
       "    }\n",
       "\n",
       "    .dataframe thead th {\n",
       "        text-align: right;\n",
       "    }\n",
       "</style>\n",
       "<table border=\"1\" class=\"dataframe\">\n",
       "  <thead>\n",
       "    <tr style=\"text-align: right;\">\n",
       "      <th></th>\n",
       "      <th>Node</th>\n",
       "      <th>Closeness</th>\n",
       "      <th>Betweenness</th>\n",
       "      <th>Degree</th>\n",
       "      <th>Eigenvector</th>\n",
       "    </tr>\n",
       "  </thead>\n",
       "  <tbody>\n",
       "    <tr>\n",
       "      <th>5008</th>\n",
       "      <td>Sergey Levine</td>\n",
       "      <td>0.151601</td>\n",
       "      <td>0.025062</td>\n",
       "      <td>0.005605</td>\n",
       "      <td>0.000351</td>\n",
       "    </tr>\n",
       "    <tr>\n",
       "      <th>3256</th>\n",
       "      <td>Yoshua Bengio</td>\n",
       "      <td>0.150116</td>\n",
       "      <td>0.020409</td>\n",
       "      <td>0.005493</td>\n",
       "      <td>0.000121</td>\n",
       "    </tr>\n",
       "    <tr>\n",
       "      <th>3885</th>\n",
       "      <td>Pieter Abbeel</td>\n",
       "      <td>0.147784</td>\n",
       "      <td>0.013811</td>\n",
       "      <td>0.004862</td>\n",
       "      <td>0.000124</td>\n",
       "    </tr>\n",
       "    <tr>\n",
       "      <th>4610</th>\n",
       "      <td>Pushmeet Kohli</td>\n",
       "      <td>0.146791</td>\n",
       "      <td>0.013917</td>\n",
       "      <td>0.002836</td>\n",
       "      <td>0.000002</td>\n",
       "    </tr>\n",
       "    <tr>\n",
       "      <th>1679</th>\n",
       "      <td>Lihong Li</td>\n",
       "      <td>0.144182</td>\n",
       "      <td>0.007714</td>\n",
       "      <td>0.001846</td>\n",
       "      <td>0.000002</td>\n",
       "    </tr>\n",
       "  </tbody>\n",
       "</table>\n",
       "</div>"
      ],
      "text/plain": [
       "                Node  Closeness  Betweenness    Degree  Eigenvector\n",
       "5008   Sergey Levine   0.151601     0.025062  0.005605     0.000351\n",
       "3256   Yoshua Bengio   0.150116     0.020409  0.005493     0.000121\n",
       "3885   Pieter Abbeel   0.147784     0.013811  0.004862     0.000124\n",
       "4610  Pushmeet Kohli   0.146791     0.013917  0.002836     0.000002\n",
       "1679       Lihong Li   0.144182     0.007714  0.001846     0.000002"
      ]
     },
     "execution_count": 17,
     "metadata": {},
     "output_type": "execute_result"
    }
   ],
   "source": [
    "#Top 5 authors for Closeness Centrality\n",
    "df_c_c.head(5)"
   ]
  },
  {
   "cell_type": "code",
   "execution_count": 18,
   "metadata": {},
   "outputs": [
    {
     "data": {
      "text/html": [
       "<div>\n",
       "<style scoped>\n",
       "    .dataframe tbody tr th:only-of-type {\n",
       "        vertical-align: middle;\n",
       "    }\n",
       "\n",
       "    .dataframe tbody tr th {\n",
       "        vertical-align: top;\n",
       "    }\n",
       "\n",
       "    .dataframe thead th {\n",
       "        text-align: right;\n",
       "    }\n",
       "</style>\n",
       "<table border=\"1\" class=\"dataframe\">\n",
       "  <thead>\n",
       "    <tr style=\"text-align: right;\">\n",
       "      <th></th>\n",
       "      <th>Node</th>\n",
       "      <th>Closeness</th>\n",
       "      <th>Betweenness</th>\n",
       "      <th>Degree</th>\n",
       "      <th>Eigenvector</th>\n",
       "    </tr>\n",
       "  </thead>\n",
       "  <tbody>\n",
       "    <tr>\n",
       "      <th>5008</th>\n",
       "      <td>Sergey Levine</td>\n",
       "      <td>0.151601</td>\n",
       "      <td>0.025062</td>\n",
       "      <td>0.005605</td>\n",
       "      <td>0.000351</td>\n",
       "    </tr>\n",
       "    <tr>\n",
       "      <th>3256</th>\n",
       "      <td>Yoshua Bengio</td>\n",
       "      <td>0.150116</td>\n",
       "      <td>0.020409</td>\n",
       "      <td>0.005493</td>\n",
       "      <td>0.000121</td>\n",
       "    </tr>\n",
       "    <tr>\n",
       "      <th>4610</th>\n",
       "      <td>Pushmeet Kohli</td>\n",
       "      <td>0.146791</td>\n",
       "      <td>0.013917</td>\n",
       "      <td>0.002836</td>\n",
       "      <td>0.000002</td>\n",
       "    </tr>\n",
       "    <tr>\n",
       "      <th>3885</th>\n",
       "      <td>Pieter Abbeel</td>\n",
       "      <td>0.147784</td>\n",
       "      <td>0.013811</td>\n",
       "      <td>0.004862</td>\n",
       "      <td>0.000124</td>\n",
       "    </tr>\n",
       "    <tr>\n",
       "      <th>18440</th>\n",
       "      <td>Bo Li</td>\n",
       "      <td>0.142427</td>\n",
       "      <td>0.013625</td>\n",
       "      <td>0.002184</td>\n",
       "      <td>0.000236</td>\n",
       "    </tr>\n",
       "  </tbody>\n",
       "</table>\n",
       "</div>"
      ],
      "text/plain": [
       "                 Node  Closeness  Betweenness    Degree  Eigenvector\n",
       "5008    Sergey Levine   0.151601     0.025062  0.005605     0.000351\n",
       "3256    Yoshua Bengio   0.150116     0.020409  0.005493     0.000121\n",
       "4610   Pushmeet Kohli   0.146791     0.013917  0.002836     0.000002\n",
       "3885    Pieter Abbeel   0.147784     0.013811  0.004862     0.000124\n",
       "18440           Bo Li   0.142427     0.013625  0.002184     0.000236"
      ]
     },
     "execution_count": 18,
     "metadata": {},
     "output_type": "execute_result"
    }
   ],
   "source": [
    "#Top 5 authors for Betweenness Centrality\n",
    "df_b_c.head(5)"
   ]
  },
  {
   "cell_type": "code",
   "execution_count": 19,
   "metadata": {},
   "outputs": [
    {
     "data": {
      "text/html": [
       "<div>\n",
       "<style scoped>\n",
       "    .dataframe tbody tr th:only-of-type {\n",
       "        vertical-align: middle;\n",
       "    }\n",
       "\n",
       "    .dataframe tbody tr th {\n",
       "        vertical-align: top;\n",
       "    }\n",
       "\n",
       "    .dataframe thead th {\n",
       "        text-align: right;\n",
       "    }\n",
       "</style>\n",
       "<table border=\"1\" class=\"dataframe\">\n",
       "  <thead>\n",
       "    <tr style=\"text-align: right;\">\n",
       "      <th></th>\n",
       "      <th>Node</th>\n",
       "      <th>Closeness</th>\n",
       "      <th>Betweenness</th>\n",
       "      <th>Degree</th>\n",
       "      <th>Eigenvector</th>\n",
       "    </tr>\n",
       "  </thead>\n",
       "  <tbody>\n",
       "    <tr>\n",
       "      <th>12105</th>\n",
       "      <td>Lei Zhang</td>\n",
       "      <td>0.140410</td>\n",
       "      <td>0.006704</td>\n",
       "      <td>0.011188</td>\n",
       "      <td>0.048585</td>\n",
       "    </tr>\n",
       "    <tr>\n",
       "      <th>24097</th>\n",
       "      <td>Wenqi Li</td>\n",
       "      <td>0.134649</td>\n",
       "      <td>0.001746</td>\n",
       "      <td>0.010670</td>\n",
       "      <td>0.048702</td>\n",
       "    </tr>\n",
       "    <tr>\n",
       "      <th>15087</th>\n",
       "      <td>Chang Liu</td>\n",
       "      <td>0.140119</td>\n",
       "      <td>0.004555</td>\n",
       "      <td>0.010558</td>\n",
       "      <td>0.048576</td>\n",
       "    </tr>\n",
       "    <tr>\n",
       "      <th>11038</th>\n",
       "      <td>Shiyu Chang</td>\n",
       "      <td>0.140113</td>\n",
       "      <td>0.005213</td>\n",
       "      <td>0.010490</td>\n",
       "      <td>0.048575</td>\n",
       "    </tr>\n",
       "    <tr>\n",
       "      <th>10835</th>\n",
       "      <td>Kurt Keutzer</td>\n",
       "      <td>0.142577</td>\n",
       "      <td>0.004520</td>\n",
       "      <td>0.010310</td>\n",
       "      <td>0.048578</td>\n",
       "    </tr>\n",
       "  </tbody>\n",
       "</table>\n",
       "</div>"
      ],
      "text/plain": [
       "               Node  Closeness  Betweenness    Degree  Eigenvector\n",
       "12105     Lei Zhang   0.140410     0.006704  0.011188     0.048585\n",
       "24097      Wenqi Li   0.134649     0.001746  0.010670     0.048702\n",
       "15087     Chang Liu   0.140119     0.004555  0.010558     0.048576\n",
       "11038   Shiyu Chang   0.140113     0.005213  0.010490     0.048575\n",
       "10835  Kurt Keutzer   0.142577     0.004520  0.010310     0.048578"
      ]
     },
     "execution_count": 19,
     "metadata": {},
     "output_type": "execute_result"
    }
   ],
   "source": [
    "#Top 5 authors for Degree Centrality\n",
    "df_d_c.head(5)"
   ]
  },
  {
   "cell_type": "code",
   "execution_count": 20,
   "metadata": {},
   "outputs": [
    {
     "data": {
      "text/html": [
       "<div>\n",
       "<style scoped>\n",
       "    .dataframe tbody tr th:only-of-type {\n",
       "        vertical-align: middle;\n",
       "    }\n",
       "\n",
       "    .dataframe tbody tr th {\n",
       "        vertical-align: top;\n",
       "    }\n",
       "\n",
       "    .dataframe thead th {\n",
       "        text-align: right;\n",
       "    }\n",
       "</style>\n",
       "<table border=\"1\" class=\"dataframe\">\n",
       "  <thead>\n",
       "    <tr style=\"text-align: right;\">\n",
       "      <th></th>\n",
       "      <th>Node</th>\n",
       "      <th>Closeness</th>\n",
       "      <th>Betweenness</th>\n",
       "      <th>Degree</th>\n",
       "      <th>Eigenvector</th>\n",
       "    </tr>\n",
       "  </thead>\n",
       "  <tbody>\n",
       "    <tr>\n",
       "      <th>24097</th>\n",
       "      <td>Wenqi Li</td>\n",
       "      <td>0.134649</td>\n",
       "      <td>0.001746</td>\n",
       "      <td>0.010670</td>\n",
       "      <td>0.048702</td>\n",
       "    </tr>\n",
       "    <tr>\n",
       "      <th>24100</th>\n",
       "      <td>Guotai Wang</td>\n",
       "      <td>0.133164</td>\n",
       "      <td>0.000173</td>\n",
       "      <td>0.009815</td>\n",
       "      <td>0.048687</td>\n",
       "    </tr>\n",
       "    <tr>\n",
       "      <th>8610</th>\n",
       "      <td>Dacheng Tao</td>\n",
       "      <td>0.136381</td>\n",
       "      <td>0.002615</td>\n",
       "      <td>0.010040</td>\n",
       "      <td>0.048685</td>\n",
       "    </tr>\n",
       "    <tr>\n",
       "      <th>12105</th>\n",
       "      <td>Lei Zhang</td>\n",
       "      <td>0.140410</td>\n",
       "      <td>0.006704</td>\n",
       "      <td>0.011188</td>\n",
       "      <td>0.048585</td>\n",
       "    </tr>\n",
       "    <tr>\n",
       "      <th>15053</th>\n",
       "      <td>Bjoern Menze</td>\n",
       "      <td>0.133893</td>\n",
       "      <td>0.000654</td>\n",
       "      <td>0.010040</td>\n",
       "      <td>0.048580</td>\n",
       "    </tr>\n",
       "  </tbody>\n",
       "</table>\n",
       "</div>"
      ],
      "text/plain": [
       "               Node  Closeness  Betweenness    Degree  Eigenvector\n",
       "24097      Wenqi Li   0.134649     0.001746  0.010670     0.048702\n",
       "24100   Guotai Wang   0.133164     0.000173  0.009815     0.048687\n",
       "8610    Dacheng Tao   0.136381     0.002615  0.010040     0.048685\n",
       "12105     Lei Zhang   0.140410     0.006704  0.011188     0.048585\n",
       "15053  Bjoern Menze   0.133893     0.000654  0.010040     0.048580"
      ]
     },
     "execution_count": 20,
     "metadata": {},
     "output_type": "execute_result"
    }
   ],
   "source": [
    "#Top 5 authors for Eigenvector Centrality\n",
    "df_e_c.head(5)"
   ]
  }
 ],
 "metadata": {
  "kernelspec": {
   "display_name": "Python 3",
   "language": "python",
   "name": "python3"
  },
  "language_info": {
   "codemirror_mode": {
    "name": "ipython",
    "version": 3
   },
   "file_extension": ".py",
   "mimetype": "text/x-python",
   "name": "python",
   "nbconvert_exporter": "python",
   "pygments_lexer": "ipython3",
   "version": "3.7.6"
  }
 },
 "nbformat": 4,
 "nbformat_minor": 4
}
